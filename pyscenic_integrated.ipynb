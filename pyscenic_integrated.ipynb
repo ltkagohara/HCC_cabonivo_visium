{
 "cells": [
  {
   "cell_type": "code",
   "execution_count": null,
   "metadata": {},
   "outputs": [],
   "source": [
    "import os\n",
    "import numpy as np\n",
    "import pandas as pd\n",
    "import scanpy as sc\n",
    "import pybiomart\n",
    "import seaborn as sns\n",
    "import matplotlib.pyplot as plt\n",
    "import loompy as lp\n",
    "import os, glob\n",
    "import pickle\n",
    "import scipy\n",
    "\n",
    "from arboreto.utils import load_tf_names\n",
    "from arboreto.algo import grnboost2\n",
    "\n",
    "from pyscenic.rnkdb import FeatherRankingDatabase as RankingDatabase\n",
    "from pyscenic.utils import modules_from_adjacencies\n",
    "from pyscenic.prune import prune2df, df2regulons\n",
    "from pyscenic.aucell import aucell\n",
    "\n",
    "import seaborn as sns\n",
    "\n",
    "import pybiomart\n",
    "import matplotlib.pyplot as plt\n",
    "from numpy.random import default_rng\n",
    "from matplotlib.pyplot import rc_context\n",
    "sc.settings.verbosity=3         # verbosity: errors (0), warnings (1), info (2), hints (3)\n",
    "sc.logging.print_header()\n",
    "    # scanpy==1.7.0\n",
    "    # anndata==0.7.5\n",
    "    # umap==0.3.10 numpy==1.18.1\n",
    "    # scipy==1.4.1 pandas==1.2.2\n",
    "    # scikit-learn==0.22.2.post1\n",
    "    # statsmodels==0.12.2\n",
    "    # python-igraph==0.8.3\n",
    "    # louvain==0.6.1\n",
    "    # leidenalg==0.8.3\n",
    "\n",
    "sc.settings.set_figure_params(dpi=80, facecolor='white')\n",
    "\n",
    "# read in the counts matrix into a AnnData object\n",
    "working_dir = './PATH_TO_WORKING_DIR'\n",
    "output_dir = './PATH_TO_OUTPUT_DIR'\n",
    "os.chdir(working_dir)"
   ]
  },
  {
   "cell_type": "code",
   "execution_count": null,
   "metadata": {},
   "outputs": [],
   "source": [
    "Patient_ID = 'hcc01'\n",
    "\n",
    "# reading the data\n",
    "adata=sc.read_visium('VisiumData/{}'.format(Patient_ID),\n",
    "    count_file='filtered_feature_bc_matrix.h5', load_images=True)"
   ]
  },
  {
   "cell_type": "code",
   "execution_count": null,
   "metadata": {},
   "outputs": [],
   "source": [
    "# annotate the group of mitochondrial genes as 'mt'\n",
    "adata.var['mt'] = adata.var_names.str.startswith('MT-')  \n",
    "sc.pp.calculate_qc_metrics(adata, qc_vars=['mt'], percent_top=None, log1p=False, inplace=True)\n",
    "adata = adata[adata.obs[\"pct_counts_mt\"] < 40]\n",
    "print(f\"#cells after MT filter: {adata.n_obs}\")\n",
    "\n",
    "sc.pp.filter_genes(adata, min_cells=5)\n",
    "\n",
    "#save the raw expression matrix gene\n",
    "raw_expression = adata.X.T\n",
    "\n",
    "# normalization\n",
    "sc.pp.normalize_total(adata, inplace=True)\n",
    "\n",
    "# log transformation\n",
    "sc.pp.log1p(adata)\n",
    "\n",
    "# identify highly variable genes\n",
    "sc.pp.highly_variable_genes(adata, min_mean=0.0125, max_mean=3,\n",
    "    min_disp=0.5)\n",
    "\n",
    "sc.pl.highly_variable_genes(adata)"
   ]
  },
  {
   "cell_type": "code",
   "execution_count": null,
   "metadata": {},
   "outputs": [],
   "source": [
    "### manifold embedding and clustering based on transcriptional similarity\n",
    "\n",
    "# clustering\n",
    "sc.tl.pca(adata, svd_solver='arpack')\n",
    "sc.pl.pca_variance_ratio(adata,n_pcs=50,log=True)\n",
    "\n",
    "sc.pp.pca(adata,n_comps=50)\n",
    "sc.pp.neighbors(adata,n_pcs=50)\n",
    "sc.tl.umap(adata)\n",
    "sc.tl.leiden(adata, key_added='clusters')\n",
    "\n",
    "#adata.write('VisiumResult/{}/{}_clustered.h5ad'.format(ID, ID), compression='gzip')\n",
    "\n",
    "# plot covariates to check if there is any particular strucutre in the UMAP\n",
    "plt.rcParams[\"figure.figsize\"] = (4, 4)\n",
    "\n",
    "\n",
    "sc.pl.spatial(adata, img_key='hires', color='clusters', size=1.5)\n",
    "\n",
    "sc.pl.umap(adata, color=[\"total_counts\", \"n_genes_by_counts\", \"clusters\"],\n",
    "    wspace=0.4)\n"
   ]
  },
  {
   "cell_type": "code",
   "execution_count": null,
   "metadata": {},
   "outputs": [],
   "source": [
    "row_attrs = { \n",
    "    \"Gene\": np.array(adata.var.index) ,\n",
    "}\n",
    "col_attrs = { \n",
    "    \"CellID\":  np.array(adata.obs.index) ,\n",
    "    \"nGene\": np.array( np.sum(adata.X.transpose()>0 , axis=0)).flatten() ,\n",
    "    \"nUMI\": np.array( np.sum(adata.X.transpose() , axis=0)).flatten() ,\n",
    "}\n",
    "\n",
    "## create a data folder for the patient\n",
    "os.chdir(output_dir)\n",
    "isdir = os.path.isdir('{}/'.format(Patient_ID))\n",
    "if not isdir:\n",
    "    os.mkdir('{}/'.format(Patient_ID))\n",
    "\n",
    "os.chdir('{}/'.format(Patient_ID))\n",
    "\n",
    "f_loom_path_scenic = '{}_pyscenic.loom'.format(Patient_ID, Patient_ID)\n",
    "lp.create( f_loom_path_scenic, adata.X.transpose(), row_attrs, col_attrs )"
   ]
  },
  {
   "cell_type": "code",
   "execution_count": null,
   "metadata": {},
   "outputs": [],
   "source": [
    "f_loom_path_scenic  = \"{}_pyscenic.loom\".format(Patient_ID)\n",
    "TFS_FNAME = '../../hs_hgnc_tfs.txt'\n",
    "\n",
    "# path to pyscenic output\n",
    "f_pyscenic_output = \"pyscenic_output.loom\""
   ]
  },
  {
   "cell_type": "code",
   "execution_count": null,
   "metadata": {},
   "outputs": [],
   "source": [
    "!pyscenic grn {f_loom_path_scenic} {TFS_FNAME} -o adj.tsv --num_workers 12"
   ]
  },
  {
   "cell_type": "code",
   "execution_count": null,
   "metadata": {},
   "outputs": [],
   "source": [
    "adjacencies = pd.read_csv(\"adj.tsv\", index_col=False, sep='\\t')"
   ]
  },
  {
   "cell_type": "code",
   "execution_count": null,
   "metadata": {
    "scrolled": true
   },
   "outputs": [],
   "source": [
    "adjacencies.head()"
   ]
  },
  {
   "cell_type": "code",
   "execution_count": null,
   "metadata": {},
   "outputs": [],
   "source": [
    "import glob\n",
    "# ranking databases\n",
    "RANKING_DBS_FNAMES = list(map(lambda fn: os.path.join('../../', fn),\n",
    "                       ['hg38__refseq-r80__10kb_up_and_down_tss.mc9nr.feather',\n",
    "                       'hg38__refseq-r80__500bp_up_and_100bp_down_tss.mc9nr.feather']))\n",
    "\n",
    "DBS_PARAM = ' '.join(RANKING_DBS_FNAMES)\n",
    "\n",
    "# motif databases\n",
    "f_motif_path = \"../../motifs-v9-nr.hgnc-m0.001-o0.0.tbl\"\n",
    "\n",
    "ADJACENCIES_FNAME = \"adj.tsv\"\n",
    "\n",
    "DBS_PARAM"
   ]
  },
  {
   "cell_type": "code",
   "execution_count": null,
   "metadata": {},
   "outputs": [],
   "source": [
    "!pyscenic ctx {ADJACENCIES_FNAME} \\\n",
    "    {DBS_PARAM} \\\n",
    "    --annotations_fname {f_motif_path} \\\n",
    "    --expression_mtx_fname {f_loom_path_scenic} \\\n",
    "    --output reg.csv \\\n",
    "    --mask_dropouts \\\n",
    "    --num_workers 12"
   ]
  },
  {
   "cell_type": "code",
   "execution_count": null,
   "metadata": {},
   "outputs": [],
   "source": [
    "!pyscenic aucell \\\n",
    "    {f_loom_path_scenic} \\\n",
    "    reg.csv \\\n",
    "    --output {f_pyscenic_output} \\\n",
    "    --num_workers 12"
   ]
  },
  {
   "cell_type": "code",
   "execution_count": null,
   "metadata": {},
   "outputs": [],
   "source": [
    "pwd"
   ]
  },
  {
   "cell_type": "code",
   "execution_count": null,
   "metadata": {},
   "outputs": [],
   "source": [
    "import json\n",
    "import zlib\n",
    "import base64\n",
    "\n",
    "# collect SCENIC AUCell output\n",
    "lf = lp.connect( f_pyscenic_output, mode='r+', validate=False )\n",
    "auc_mtx = pd.DataFrame( lf.ca.RegulonsAUC, index=lf.ca.CellID)\n",
    "lf.close()"
   ]
  },
  {
   "cell_type": "code",
   "execution_count": null,
   "metadata": {},
   "outputs": [],
   "source": [
    "import umap\n",
    "\n",
    "# UMAP\n",
    "runUmap = umap.UMAP(n_neighbors=10, min_dist=0.4, metric='correlation').fit_transform\n",
    "dr_umap = runUmap( auc_mtx )\n",
    "pd.DataFrame(dr_umap, columns=['X', 'Y'], index=auc_mtx.index).to_csv( \"scenic_umap.txt\", sep='\\t')\n"
   ]
  },
  {
   "cell_type": "code",
   "execution_count": null,
   "metadata": {},
   "outputs": [],
   "source": [
    "# scenic output\n",
    "lf = lp.connect( f_pyscenic_output, mode='r+', validate=False )\n",
    "meta = json.loads(zlib.decompress(base64.b64decode( lf.attrs.MetaData )))\n",
    "#exprMat = pd.DataFrame( lf[:,:], index=lf.ra.Gene, columns=lf.ca.CellID)\n",
    "auc_mtx = pd.DataFrame( lf.ca.RegulonsAUC, index=lf.ca.CellID)\n",
    "regulons = lf.ra.Regulons\n",
    "dr_umap = pd.read_csv( 'scenic_umap.txt', sep='\\t', header=0, index_col=0 )\n",
    "###"
   ]
  },
  {
   "cell_type": "code",
   "execution_count": null,
   "metadata": {},
   "outputs": [],
   "source": [
    "auc_mtx.columns = auc_mtx.columns.str.replace('\\(','_(')\n",
    "regulons.dtype.names = tuple( [ x.replace(\"(\",\"_(\") for x in regulons.dtype.names ] )\n",
    "# regulon thresholds\n",
    "rt = meta['regulonThresholds']\n",
    "for i,x in enumerate(rt):\n",
    "    tmp = x.get('regulon').replace(\"(\",\"_(\")\n",
    "    x.update( {'regulon': tmp} )"
   ]
  },
  {
   "cell_type": "code",
   "execution_count": null,
   "metadata": {},
   "outputs": [],
   "source": [
    "Embeddings_X = pd.DataFrame( index=lf.ca.CellID )\n",
    "Embeddings_X = pd.concat( [\n",
    "        pd.DataFrame(adata.obsm['X_umap'],index=adata.obs.index)[0] ,\n",
    "        pd.DataFrame(adata.obsm['X_pca'],index=adata.obs.index)[0] ,\n",
    "        dr_umap['X']\n",
    "    ], sort=False, axis=1, join='outer' )\n",
    "Embeddings_X.columns = ['1','2','3']\n",
    "\n",
    "Embeddings_Y = pd.DataFrame( index=lf.ca.CellID )\n",
    "Embeddings_Y = pd.concat( [\n",
    "        pd.DataFrame(adata.obsm['X_umap'],index=adata.obs.index)[1] ,\n",
    "        pd.DataFrame(adata.obsm['X_pca'],index=adata.obs.index)[1] ,\n",
    "        dr_umap['Y']\n",
    "    ], sort=False, axis=1, join='outer' )\n",
    "Embeddings_Y.columns = ['1','2','3']"
   ]
  },
  {
   "cell_type": "code",
   "execution_count": null,
   "metadata": {},
   "outputs": [],
   "source": [
    "### metadata\n",
    "metaJson = {}\n",
    "\n",
    "metaJson['embeddings'] = [\n",
    "    {\n",
    "        \"id\": -1,\n",
    "        \"name\": f\"Scanpy t-SNE (highly variable genes)\"\n",
    "    },\n",
    "    {\n",
    "        \"id\": 1,\n",
    "        \"name\": f\"Scanpy UMAP  (highly variable genes)\"\n",
    "    },\n",
    "    {\n",
    "        \"id\": 2,\n",
    "        \"name\": \"Scanpy PC1/PC2\"\n",
    "    },\n",
    "    {\n",
    "        \"id\": 3,\n",
    "        \"name\": \"SCENIC AUC UMAP\"\n",
    "    },\n",
    "]\n",
    "\n",
    "metaJson[\"clusterings\"] = [{\n",
    "            \"id\": 0,\n",
    "            \"group\": \"Scanpy\",\n",
    "            \"name\": \"Scanpy louvain default resolution\",\n",
    "            \"clusters\": [],\n",
    "        }]\n",
    "\n",
    "metaJson[\"metrics\"] = [\n",
    "        {\n",
    "            \"name\": \"nUMI\"\n",
    "        }, {\n",
    "            \"name\": \"nGene\"\n",
    "        }, {\n",
    "            \"name\": \"Percent_mito\"\n",
    "        }\n",
    "]\n",
    "\n",
    "metaJson[\"annotations\"] = [\n",
    "    {\n",
    "        \"name\": \"leiden_clusters_Scanpy\",\n",
    "        \"values\": list(set( adata.obs['clusters'].astype(np.str) ))\n",
    "    },\n",
    "    #{\n",
    "    #    \"name\": \"Genotype\",\n",
    "    #    \"values\": list(set(adata.obs['Genotype'].values))\n",
    "    #},\n",
    "    #{\n",
    "    #    \"name\": \"Timepoint\",\n",
    "    #    \"values\": list(set(adata.obs['Timepoint'].values))\n",
    "    #},\n",
    "    #{\n",
    "    #    \"name\": \"Sample\",\n",
    "    #    \"values\": list(set(adata.obs['Sample'].values))\n",
    "    #}\n",
    "]\n",
    "\n",
    "# SCENIC regulon thresholds:\n",
    "metaJson[\"regulonThresholds\"] = rt\n",
    "\n",
    "for i in range(max(set([int(x) for x in adata.obs['clusters']])) + 1):\n",
    "    clustDict = {}\n",
    "    clustDict['id'] = i\n",
    "    clustDict['description'] = f'Unannotated Cluster {i + 1}'\n",
    "    metaJson['clusterings'][0]['clusters'].append(clustDict)\n",
    "    \n",
    "clusterings = pd.DataFrame()\n",
    "clusterings[\"0\"] = adata.obs['clusters'].values.astype(np.int64)"
   ]
  },
  {
   "cell_type": "code",
   "execution_count": null,
   "metadata": {},
   "outputs": [],
   "source": [
    "# loom output, generated from a combination of Scanpy and pySCENIC results:\n",
    "f_final_loom = '{}_scenic_integrated_output.loom'.format(Patient_ID)\n",
    "\n",
    "def dfToNamedMatrix(df):\n",
    "    arr_ip = [tuple(i) for i in df.values]\n",
    "    dtyp = np.dtype(list(zip(df.dtypes.index, df.dtypes)))\n",
    "    arr = np.array(arr_ip, dtype=dtyp)\n",
    "    return arr"
   ]
  },
  {
   "cell_type": "code",
   "execution_count": null,
   "metadata": {},
   "outputs": [],
   "source": [
    "col_attrs = {\n",
    "    \"CellID\": np.array(adata.obs.index),\n",
    "    \"nUMI\": np.array(adata.obs['n_counts'].values),\n",
    "    \"leiden_clusters_Scanpy\": np.array( adata.obs['clusters'].values ),\n",
    "    #\"Genotype\": np.array(adata.obs['Genotype'].values),\n",
    "    #\"Timepoint\": np.array(adata.obs['Timepoint'].values),\n",
    "    #\"Sample\": np.array(adata.obs['Sample'].values),\n",
    "    \"Embeddings_X\": dfToNamedMatrix(Embeddings_X),\n",
    "    \"Embeddings_Y\": dfToNamedMatrix(Embeddings_Y),\n",
    "    \"RegulonsAUC\": dfToNamedMatrix(auc_mtx),\n",
    "    \"Clusterings\": dfToNamedMatrix(clusterings),\n",
    "    \"ClusterID\": np.array(adata.obs['clusters'].values)\n",
    "}\n",
    "\n",
    "row_attrs = {\n",
    "    \"Gene\": lf.ra.Gene,\n",
    "    \"Regulons\": regulons,\n",
    "}\n",
    "\n",
    "attrs = {\n",
    "    \"title\": \"sampleTitle\",\n",
    "    \"MetaData\": json.dumps(metaJson),\n",
    "    \"Genome\": 'hg38',\n",
    "    \"SCopeTreeL1\": \"\",\n",
    "    \"SCopeTreeL2\": \"\",\n",
    "    \"SCopeTreeL3\": \"\"\n",
    "}\n",
    "\n",
    "# compress the metadata field:\n",
    "attrs['MetaData'] = base64.b64encode(zlib.compress(json.dumps(metaJson).encode('ascii'))).decode('ascii')"
   ]
  },
  {
   "cell_type": "code",
   "execution_count": null,
   "metadata": {},
   "outputs": [],
   "source": [
    "auc_mtx\n",
    "auc_mtx.to_csv('auc_mtx.csv')"
   ]
  },
  {
   "cell_type": "code",
   "execution_count": null,
   "metadata": {},
   "outputs": [],
   "source": []
  }
 ],
 "metadata": {
  "kernelspec": {
   "display_name": "Python 3",
   "language": "python",
   "name": "python3"
  },
  "language_info": {
   "codemirror_mode": {
    "name": "ipython",
    "version": 3
   },
   "file_extension": ".py",
   "mimetype": "text/x-python",
   "name": "python",
   "nbconvert_exporter": "python",
   "pygments_lexer": "ipython3",
   "version": "3.8.5"
  }
 },
 "nbformat": 4,
 "nbformat_minor": 5
}
